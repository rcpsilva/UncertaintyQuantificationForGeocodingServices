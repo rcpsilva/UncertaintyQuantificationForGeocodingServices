{
 "cells": [
  {
   "cell_type": "code",
   "execution_count": null,
   "metadata": {},
   "outputs": [],
   "source": [
    "# importando as bibliotecas necessárias\n",
    "import pandas as pd\n",
    "import psycopg2"
   ]
  },
  {
   "cell_type": "code",
   "execution_count": null,
   "metadata": {},
   "outputs": [],
   "source": [
    "# Conectando com o banco\n",
    "# Utilize as mesmas credenciais apresentadas\n",
    "\n",
    "con = psycopg2.connect( host='35.196.180.75',\n",
    "                            database='SGM',\n",
    "                            user='postgres', \n",
    "                            password='postgres')\n",
    "cur = con.cursor()"
   ]
  },
  {
   "cell_type": "code",
   "execution_count": null,
   "metadata": {},
   "outputs": [],
   "source": [
    "# Coletando os dados\n",
    "\n",
    "query = 'select ''geoapi_id'' from \"Response\"  where req.request_id >= 1' # A query deve refletir o que se quer coletar, essa é só uma query de exemplo\n",
    "\n",
    "cur.execute(query)\n",
    "recset = cur.fetchall() "
   ]
  },
  {
   "cell_type": "code",
   "execution_count": null,
   "metadata": {},
   "outputs": [],
   "source": [
    "# Transformando os dados coletados em dataframe\n",
    "\n",
    "colunas = ['geoapi_id'] # Lista das colunas que você selecionou na query\n",
    "df = pd.DataFrame(recset, columns = colunas)"
   ]
  }
 ],
 "metadata": {
  "language_info": {
   "name": "python"
  }
 },
 "nbformat": 4,
 "nbformat_minor": 2
}
