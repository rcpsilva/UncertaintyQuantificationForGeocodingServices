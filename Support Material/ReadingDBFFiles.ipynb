{
 "cells": [
  {
   "cell_type": "code",
   "execution_count": 2,
   "metadata": {},
   "outputs": [
    {
     "name": "stdout",
     "output_type": "stream",
     "text": [
      "Collecting dbfread\n",
      "  Using cached dbfread-2.0.7-py2.py3-none-any.whl (20 kB)\n",
      "Installing collected packages: dbfread\n",
      "Successfully installed dbfread-2.0.7\n"
     ]
    }
   ],
   "source": [
    "!pip install dbfread "
   ]
  },
  {
   "cell_type": "code",
   "execution_count": 3,
   "metadata": {},
   "outputs": [],
   "source": [
    "# Importing the needed libraries\n",
    "import pandas as pd\n",
    "from dbfread import DBF"
   ]
  },
  {
   "cell_type": "code",
   "execution_count": null,
   "metadata": {},
   "outputs": [],
   "source": [
    "# Reading the file\n",
    "filename = 'your_file_name'\n",
    "table = DBF(f'{filename}.DBF', encoding='latin1') # The encoding may change amongs database   \n",
    "\n",
    "# Converting to a pandas CSV\n",
    "original = pd.DataFrame(iter(table))\n",
    "original.to_csv(f'{filename}.csv')"
   ]
  },
  {
   "cell_type": "code",
   "execution_count": null,
   "metadata": {},
   "outputs": [],
   "source": [
    "# Reading the generated csv file\n",
    "df = pd.read_csv('sp.csv')\n",
    "len(df) "
   ]
  }
 ],
 "metadata": {
  "kernelspec": {
   "display_name": "Python 3",
   "language": "python",
   "name": "python3"
  },
  "language_info": {
   "codemirror_mode": {
    "name": "ipython",
    "version": 3
   },
   "file_extension": ".py",
   "mimetype": "text/x-python",
   "name": "python",
   "nbconvert_exporter": "python",
   "pygments_lexer": "ipython3",
   "version": "3.11.3"
  },
  "orig_nbformat": 4
 },
 "nbformat": 4,
 "nbformat_minor": 2
}
