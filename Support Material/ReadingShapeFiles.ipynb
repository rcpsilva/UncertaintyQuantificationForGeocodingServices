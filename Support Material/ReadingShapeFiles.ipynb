{
 "cells": [
  {
   "cell_type": "code",
   "execution_count": null,
   "metadata": {},
   "outputs": [],
   "source": [
    "import geopandas as gpd\n",
    "import pandas as pd\n",
    "\n",
    "# Ler o arquivo shapefile\n",
    "filename = 'seuarquivo.shp'\n",
    "data = gpd.read_file(filename, encoding='latin1')\n",
    "\n",
    "# Se as informações de latitude e longitude não estiverem presentes diretamente,\n",
    "# você pode calcular o ponto central de cada polígono (se for um arquivo de polígonos)\n",
    "# e extrair as coordenadas do ponto central\n",
    "data['centroids'] = data['geometry'].centroid\n",
    "data['latitude'] = data['centroids'].y\n",
    "data['longitude'] = data['centroids'].x\n",
    "\n",
    "# Selecionar apenas as colunas desejadas para o CSV\n",
    "data_csv = data[['latitude', 'longitude']]\n",
    "\n",
    "# Salvar os resultados em um arquivo CSV\n",
    "output_filename = 'resultado.csv'\n",
    "data_csv.to_csv(output_filename, index=False)\n",
    "\n"
   ]
  }
 ],
 "metadata": {
  "language_info": {
   "name": "python"
  }
 },
 "nbformat": 4,
 "nbformat_minor": 2
}
