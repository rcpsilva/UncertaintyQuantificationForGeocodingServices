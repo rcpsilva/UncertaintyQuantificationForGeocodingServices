{
 "cells": [
  {
   "cell_type": "code",
   "execution_count": null,
   "metadata": {},
   "outputs": [],
   "source": [
    "# importando as bibliotecas necessárias\n",
    "import pandas as pd\n",
    "import psycopg2"
   ]
  },
  {
   "cell_type": "code",
   "execution_count": null,
   "metadata": {},
   "outputs": [],
   "source": [
    "# Conectando com o banco\n",
    "# Utilize as mesmas credenciais apresentadas\n",
    "\n",
    "con = psycopg2.connect( host='35.196.180.75',\n",
    "                            database='SGM',\n",
    "                            user='postgres', \n",
    "                            password='postgres')\n",
    "cur = con.cursor()"
   ]
  },
  {
   "cell_type": "code",
   "execution_count": null,
   "metadata": {},
   "outputs": [],
   "source": [
    "# Função para encontrar o último request_id do banco\n",
    "\n",
    "def get_max_request_id(cur):\n",
    "    \n",
    "    query = \"\"\" SELECT MAX(request_id)\n",
    "                FROM \"Request\"\n",
    "                    \"\"\"\n",
    "    cur.execute(query)\n",
    "    maior = cur.fetchall()\n",
    "    return maior[0][0]"
   ]
  },
  {
   "cell_type": "code",
   "execution_count": null,
   "metadata": {},
   "outputs": [],
   "source": [
    "# Construindo a query\n",
    "\n",
    "max_request_id = get_max_request_id(cur)\n",
    "\n",
    "query = f\"\"\"\n",
    "    INSERT INTO \"Request\" (\n",
    "        request_id,\n",
    "        full_address,\n",
    "        number,\n",
    "        public_place,\n",
    "        district,\n",
    "        city,\n",
    "        zip_code,\n",
    "        state\n",
    "    )\n",
    "    VALUES (\n",
    "            {max_request_id},\n",
    "            'RUA TRES, 138, BELO HORIZONTE, MG',\n",
    "            '138',\n",
    "            'RUA TRES',\n",
    "            '',\n",
    "            'BELO HORIZONTE',\n",
    "            '31370710',\n",
    "            'MG'\n",
    "            ), \n",
    "            ({max_request_id + 1},\n",
    "            Outro endereço\n",
    "            ),\n",
    "            ...\n",
    "\n",
    "    \"\"\"\n",
    "# A query deve refletir o que se quer inserir, essa é só uma query de exemplo que não irá funcionar se você tentar executar. Você deve percorrer o seu dataframe e cada endereço deve ser inserido na query utilizando esse padrão. Caso não se tenha informação de um campo, colocar a palavra vazia ''. \n",
    "\n",
    "print(query) # Verifique se a construção da query funcionou bem"
   ]
  },
  {
   "cell_type": "code",
   "execution_count": null,
   "metadata": {},
   "outputs": [],
   "source": [
    "# Inserindo os dados\n",
    "\n",
    "cur.execute(query)\n",
    "\n",
    "ultimo_request_id = get_max_request_id(cur)\n",
    "print(ultimo_request_id) # verificando se o ultimo request_id do banco é igual ao último da query\n",
    "\n",
    "cur.close()\n",
    "con.commit()"
   ]
  }
 ],
 "metadata": {
  "language_info": {
   "name": "python"
  }
 },
 "nbformat": 4,
 "nbformat_minor": 2
}
