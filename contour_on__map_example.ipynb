{
  "nbformat": 4,
  "nbformat_minor": 0,
  "metadata": {
    "colab": {
      "provenance": []
    },
    "kernelspec": {
      "name": "python3",
      "display_name": "Python 3"
    },
    "language_info": {
      "name": "python"
    }
  },
  "cells": [
    {
      "cell_type": "code",
      "execution_count": 1,
      "metadata": {
        "colab": {
          "base_uri": "https://localhost:8080/"
        },
        "id": "qFiSxGKWl4Lu",
        "outputId": "83deda28-53d3-4859-c263-1a7ebe82f9a8"
      },
      "outputs": [
        {
          "output_type": "stream",
          "name": "stdout",
          "text": [
            "Reading package lists... Done\n",
            "Building dependency tree       \n",
            "Reading state information... Done\n",
            "E: Unable to locate package libgeos-3.5.0\n",
            "E: Couldn't find any package by glob 'libgeos-3.5.0'\n",
            "E: Couldn't find any package by regex 'libgeos-3.5.0'\n",
            "Reading package lists... Done\n",
            "Building dependency tree       \n",
            "Reading state information... Done\n",
            "libgeos-dev is already the newest version (3.9.1-1~focal0).\n",
            "0 upgraded, 0 newly installed, 0 to remove and 23 not upgraded.\n",
            "Looking in indexes: https://pypi.org/simple, https://us-python.pkg.dev/colab-wheels/public/simple/\n",
            "Collecting https://github.com/matplotlib/basemap/archive/master.zip\n",
            "  Using cached https://github.com/matplotlib/basemap/archive/master.zip\n",
            "\u001b[31mERROR: https://github.com/matplotlib/basemap/archive/master.zip does not appear to be a Python project: neither 'setup.py' nor 'pyproject.toml' found.\u001b[0m\u001b[31m\n",
            "\u001b[0m"
          ]
        }
      ],
      "source": [
        "!apt-get install libgeos-3.5.0\n",
        "!apt-get install libgeos-dev\n",
        "!pip install https://github.com/matplotlib/basemap/archive/master.zip"
      ]
    },
    {
      "cell_type": "code",
      "source": [
        "!apt-get install libgeos"
      ],
      "metadata": {
        "colab": {
          "base_uri": "https://localhost:8080/"
        },
        "id": "QJkyjkOQmpKV",
        "outputId": "17a3d2a1-5100-4210-aa28-0dd4e4031f1a"
      },
      "execution_count": 2,
      "outputs": [
        {
          "output_type": "stream",
          "name": "stdout",
          "text": [
            "Reading package lists... Done\n",
            "Building dependency tree       \n",
            "Reading state information... Done\n",
            "E: Unable to locate package libgeos\n"
          ]
        }
      ]
    },
    {
      "cell_type": "code",
      "source": [
        "!apt-get install libgeos-dev"
      ],
      "metadata": {
        "colab": {
          "base_uri": "https://localhost:8080/"
        },
        "id": "T6mBA13tmsPQ",
        "outputId": "9f95cba6-d0a3-42b5-f320-48efe7ea998c"
      },
      "execution_count": 3,
      "outputs": [
        {
          "output_type": "stream",
          "name": "stdout",
          "text": [
            "Reading package lists... Done\n",
            "Building dependency tree       \n",
            "Reading state information... Done\n",
            "libgeos-dev is already the newest version (3.9.1-1~focal0).\n",
            "0 upgraded, 0 newly installed, 0 to remove and 23 not upgraded.\n"
          ]
        }
      ]
    },
    {
      "cell_type": "code",
      "source": [
        "!pip install pyproj"
      ],
      "metadata": {
        "colab": {
          "base_uri": "https://localhost:8080/"
        },
        "id": "ALEYznhBmews",
        "outputId": "7d3244b7-c2ef-431d-ff31-a5f33a8a5f32"
      },
      "execution_count": 4,
      "outputs": [
        {
          "output_type": "stream",
          "name": "stdout",
          "text": [
            "Looking in indexes: https://pypi.org/simple, https://us-python.pkg.dev/colab-wheels/public/simple/\n",
            "Requirement already satisfied: pyproj in /usr/local/lib/python3.9/dist-packages (3.3.1)\n",
            "Requirement already satisfied: certifi in /usr/local/lib/python3.9/dist-packages (from pyproj) (2022.12.7)\n"
          ]
        }
      ]
    },
    {
      "cell_type": "code",
      "source": [
        "!pip install \"basemap == 1.3.0b1\" \"basemap-data == 1.3.0b1\""
      ],
      "metadata": {
        "colab": {
          "base_uri": "https://localhost:8080/"
        },
        "id": "sni9Jd9XmhoK",
        "outputId": "8b58c0a2-4e96-4585-8e26-35c72acf20a7"
      },
      "execution_count": 5,
      "outputs": [
        {
          "output_type": "stream",
          "name": "stdout",
          "text": [
            "Looking in indexes: https://pypi.org/simple, https://us-python.pkg.dev/colab-wheels/public/simple/\n",
            "Requirement already satisfied: basemap==1.3.0b1 in /usr/local/lib/python3.9/dist-packages (1.3.0b1)\n",
            "Requirement already satisfied: basemap-data==1.3.0b1 in /usr/local/lib/python3.9/dist-packages (1.3.0b1)\n",
            "Requirement already satisfied: matplotlib<3.5,>=1.5 in /usr/local/lib/python3.9/dist-packages (from basemap==1.3.0b1) (3.4.3)\n",
            "Requirement already satisfied: six<1.16,>=1.10 in /usr/local/lib/python3.9/dist-packages (from basemap==1.3.0b1) (1.15.0)\n",
            "Requirement already satisfied: pyshp<2.2,>=1.2 in /usr/local/lib/python3.9/dist-packages (from basemap==1.3.0b1) (2.1.3)\n",
            "Requirement already satisfied: numpy<1.22,>=1.16 in /usr/local/lib/python3.9/dist-packages (from basemap==1.3.0b1) (1.21.6)\n",
            "Requirement already satisfied: pyproj<3.4.0,>=1.9.3 in /usr/local/lib/python3.9/dist-packages (from basemap==1.3.0b1) (3.3.1)\n",
            "Requirement already satisfied: cycler>=0.10 in /usr/local/lib/python3.9/dist-packages (from matplotlib<3.5,>=1.5->basemap==1.3.0b1) (0.11.0)\n",
            "Requirement already satisfied: kiwisolver>=1.0.1 in /usr/local/lib/python3.9/dist-packages (from matplotlib<3.5,>=1.5->basemap==1.3.0b1) (1.4.4)\n",
            "Requirement already satisfied: python-dateutil>=2.7 in /usr/local/lib/python3.9/dist-packages (from matplotlib<3.5,>=1.5->basemap==1.3.0b1) (2.8.2)\n",
            "Requirement already satisfied: pyparsing>=2.2.1 in /usr/local/lib/python3.9/dist-packages (from matplotlib<3.5,>=1.5->basemap==1.3.0b1) (3.0.9)\n",
            "Requirement already satisfied: pillow>=6.2.0 in /usr/local/lib/python3.9/dist-packages (from matplotlib<3.5,>=1.5->basemap==1.3.0b1) (8.4.0)\n",
            "Requirement already satisfied: certifi in /usr/local/lib/python3.9/dist-packages (from pyproj<3.4.0,>=1.9.3->basemap==1.3.0b1) (2022.12.7)\n"
          ]
        }
      ]
    },
    {
      "cell_type": "code",
      "source": [
        "import numpy as np\n",
        "from copy import copy \n"
      ],
      "metadata": {
        "id": "ehZOlnjTo-30"
      },
      "execution_count": 6,
      "outputs": []
    },
    {
      "cell_type": "code",
      "source": [
        "from mpl_toolkits.basemap import Basemap\n",
        "import matplotlib.pyplot as plt\n",
        "# setup Lambert Conformal basemap.\n",
        "# set resolution=None to skip processing of boundary datasets.\n",
        "m = Basemap(width=50000,height=50000,projection='lcc',resolution='i',lat_0=-26.3,lon_0=-48.9)\n",
        "m.shadedrelief()\n",
        "lats = np.arange(-26.3, -26.1, 0.01)\n",
        "lons = np.arange(-49, -48.8, 0.01)\n",
        "\n",
        "x, y = m(*np.meshgrid(lons,lats))\n",
        "z = copy(x)\n",
        "for i in range(len(x)):\n",
        "  for j in range(len(x[0])):\n",
        "    z[i][j] = x[i][j]**2 + y[i][j]**2\n",
        "\n",
        "cs = m.contourf(x,y,z,30,cmap=plt.cm.jet,alpha=0.2)\n",
        "\n",
        "plt.show()"
      ],
      "metadata": {
        "colab": {
          "base_uri": "https://localhost:8080/",
          "height": 411
        },
        "id": "dxQOpnjSm5n2",
        "outputId": "b1354da4-a27f-4e80-fabb-b1d06706489b"
      },
      "execution_count": 7,
      "outputs": [
        {
          "output_type": "display_data",
          "data": {
            "text/plain": [
              "<Figure size 640x480 with 1 Axes>"
            ],
            "image/png": "[encoded data removed]"
          },
          "metadata": {}
        }
      ]
    },
    {
      "cell_type": "code",
      "source": [
        "x"
      ],
      "metadata": {
        "colab": {
          "base_uri": "https://localhost:8080/"
        },
        "id": "HQrz27S4nDib",
        "outputId": "a2f282f5-4943-4caf-e4ab-5834cf46c6f5"
      },
      "execution_count": 8,
      "outputs": [
        {
          "output_type": "execute_result",
          "data": {
            "text/plain": [
              "array([[15031.53140108, 16028.37809108, 17025.22483473, 18022.07162607,\n",
              "        19018.91845914, 20015.76532797, 21012.61222661, 22009.45914909,\n",
              "        23006.30608946, 24003.15304175, 25000.        , 25996.84695825,\n",
              "        26993.69391054, 27990.5408509 , 28987.38777339, 29984.23467203,\n",
              "        30981.08154086, 31977.92837393, 32974.77516526, 33971.62190891,\n",
              "        34968.46859891],\n",
              "       [15030.67152552, 16027.60420306, 17024.53693426, 18021.46971314,\n",
              "        19018.40253376, 20015.33539016, 21012.26827635, 22009.2011864 ,\n",
              "        23006.13411433, 24003.06705418, 25000.        , 25996.93294581,\n",
              "        26993.86588567, 27990.7988136 , 28987.73172364, 29984.66460984,\n",
              "        30981.59746623, 31978.53028685, 32975.46306574, 33972.39579693,\n",
              "        34969.32847447],\n",
              "       [15029.81164993, 16026.83031502, 17023.84903376, 18020.8678002 ,\n",
              "        19017.88660838, 20014.90545233, 21011.92432609, 22008.9432237 ,\n",
              "        23005.96213919, 24002.98106662, 25000.        , 25997.01893338,\n",
              "        26994.0378608 , 27991.0567763 , 28988.07567391, 29985.09454767,\n",
              "        30982.11339162, 31979.13219979, 32976.15096624, 33973.16968498,\n",
              "        34970.18835006],\n",
              "       [15028.95177429, 16026.05642692, 17023.16113322, 18020.26588722,\n",
              "        19017.37068296, 20014.47551448, 21011.5803758 , 22008.68526098,\n",
              "        23005.79016405, 24002.89507904, 25000.        , 25997.10492095,\n",
              "        26994.20983595, 27991.31473901, 28988.41962419, 29985.52448552,\n",
              "        30982.62931704, 31979.73411277, 32976.83886677, 33973.94357307,\n",
              "        34971.04822571],\n",
              "       [15028.09189857, 16025.28253876, 17022.47323262, 18019.66397419,\n",
              "        19016.85475749, 20014.04557658, 21011.23642549, 22008.42729824,\n",
              "        23005.61818889, 24002.80909146, 25000.        , 25997.19090853,\n",
              "        26994.38181111, 27991.57270175, 28988.76357451, 29985.95442341,\n",
              "        30983.1452425 , 31980.33602581, 32977.52676738, 33974.71746124,\n",
              "        34971.90810143],\n",
              "       [15027.23202274, 16024.5086505 , 17021.78533193, 18019.06206108,\n",
              "        19016.33883197, 20013.61563864, 21010.89247513, 22008.16933547,\n",
              "        23005.44621371, 24002.72310387, 25000.        , 25997.27689612,\n",
              "        26994.55378629, 27991.83066452, 28989.10752487, 29986.38436136,\n",
              "        30983.66116803, 31980.93793892, 32978.21466806, 33975.49134949,\n",
              "        34972.76797725],\n",
              "       [15026.37214679, 16023.73476213, 17021.09743114, 18018.46014788,\n",
              "        19015.82290636, 20013.18570063, 21010.54852472, 22007.91137266,\n",
              "        23005.2742385 , 24002.63711627, 25000.        , 25997.36288373,\n",
              "        26994.7257615 , 27992.08862733, 28989.45147528, 29986.81429937,\n",
              "        30984.17709364, 31981.53985212, 32978.90256885, 33976.26523787,\n",
              "        34973.62785321],\n",
              "       [15025.51227067, 16022.96087361, 17020.40953023, 18017.85823457,\n",
              "        19015.30698066, 20012.75576254, 21010.20457424, 22007.6534098 ,\n",
              "        23005.10226326, 24002.55112865, 25000.        , 25997.44887135,\n",
              "        26994.89773673, 27992.34659019, 28989.79542575, 29987.24423746,\n",
              "        30984.69301934, 31982.14176543, 32979.59046977, 33977.03912639,\n",
              "        34974.48772932],\n",
              "       [15024.65239438, 16022.18698493, 17019.72162917, 18017.25632113,\n",
              "        19014.79105485, 20012.32582436, 21009.86062369, 22007.39544689,\n",
              "        23004.93028798, 24002.46514101, 25000.        , 25997.53485899,\n",
              "        26995.06971201, 27992.6045531 , 28990.1393763 , 29987.67417564,\n",
              "        30985.20894515, 31982.74367887, 32980.27837083, 33977.81301507,\n",
              "        34975.34760562],\n",
              "       [15023.79251787, 16021.41309606, 17019.03372794, 18016.65440754,\n",
              "        19014.27512891, 20011.89588607, 21009.51667306, 22007.13748392,\n",
              "        23004.75831267, 24002.37915335, 25000.        , 25997.62084665,\n",
              "        26995.24168733, 27992.86251608, 28990.48332693, 29988.10411392,\n",
              "        30985.72487108, 31983.34559245, 32980.96627206, 33978.58690394,\n",
              "        34976.20748213],\n",
              "       [15022.93264113, 16020.63920698, 17018.34582652, 18016.05249379,\n",
              "        19013.75920283, 20011.46594767, 21009.17272234, 22006.87952087,\n",
              "        23004.5863373 , 24002.29316567, 25000.        , 25997.70683433,\n",
              "        26995.41366269, 27993.12047913, 28990.82727766, 29988.53405233,\n",
              "        30986.24079716, 31983.9475062 , 32981.65417348, 33979.36079302,\n",
              "        34977.06735887],\n",
              "       [15022.07276412, 16019.86531766, 17017.65792489, 18015.45057986,\n",
              "        19013.2432766 , 20011.03600914, 21008.82877151, 22006.62155775,\n",
              "        23004.41436189, 24002.20717796, 25000.        , 25997.79282204,\n",
              "        26995.58563811, 27993.37844225, 28991.17122849, 29988.96399086,\n",
              "        30986.7567234 , 31984.54942014, 32982.3420751 , 33980.13468234,\n",
              "        34977.92723587],\n",
              "       [15021.21288683, 16019.09142808, 17016.97002303, 18014.84866573,\n",
              "        19012.72735019, 20010.60607046, 21008.48482056, 22006.36359453,\n",
              "        23004.24238641, 24002.12119022, 25000.        , 25997.87880978,\n",
              "        26995.75761359, 27993.63640546, 28991.51517943, 29989.39392954,\n",
              "        30987.27264981, 31985.15133427, 32983.02997696, 33980.90857192,\n",
              "        34978.78711316],\n",
              "       [15020.35300923, 16018.31753822, 17016.28212092, 18014.24675137,\n",
              "        19012.21142359, 20010.17613162, 21008.14086949, 22006.10563123,\n",
              "        23004.07041087, 24002.03520245, 25000.        , 25997.96479754,\n",
              "        26995.92958912, 27993.89436877, 28991.85913051, 29989.82386837,\n",
              "        30987.7885764 , 31985.75324862, 32983.71787907, 33981.68246178,\n",
              "        34979.64699077],\n",
              "       [15019.49313128, 16017.54364805, 17015.59421854, 18013.64483678,\n",
              "        19011.69549679, 20009.74619262, 21007.79691828, 22005.84766782,\n",
              "        23003.89843527, 24001.94921465, 25000.        , 25998.05078535,\n",
              "        26996.10156473, 27994.15233217, 28992.20308171, 29990.25380738,\n",
              "        30988.3045032 , 31986.35516322, 32984.40578145, 33982.45635194,\n",
              "        34980.50686872],\n",
              "       [15018.63325297, 16016.76975756, 17014.90631587, 18013.04292193,\n",
              "        19011.17956977, 20009.31625343, 21007.45296693, 22005.5897043 ,\n",
              "        23003.72645959, 24001.86322681, 25000.        , 25998.13677319,\n",
              "        26996.27354041, 27994.41029569, 28992.54703307, 29990.68374657,\n",
              "        30988.82043022, 31986.95707807, 32985.09368413, 33983.23024244,\n",
              "        34981.36674703],\n",
              "       [15017.77337426, 16015.99586671, 17014.21841288, 18012.4410068 ,\n",
              "        19010.66364252, 20008.88631404, 21007.10901542, 22005.33174067,\n",
              "        23003.55448383, 24001.77723893, 25000.        , 25998.22276107,\n",
              "        26996.44551617, 27994.66825933, 28992.89098458, 29991.11368595,\n",
              "        30989.33635748, 31987.55899319, 32985.78158712, 33984.00413329,\n",
              "        34982.22662573],\n",
              "       [15016.91349514, 16015.22197548, 17013.53050955, 18011.83909139,\n",
              "        19010.14771501, 20008.45637445, 21006.76506374, 22005.07377691,\n",
              "        23003.38250799, 24001.69125101, 25000.        , 25998.30874899,\n",
              "        26996.61749201, 27994.92622309, 28993.23493626, 29991.54362555,\n",
              "        30989.85228499, 31988.16090861, 32986.46949044, 33984.77802452,\n",
              "        34983.08650486],\n",
              "       [15016.05361557, 16014.44808385, 17012.84260587, 18011.23717566,\n",
              "        19009.63178723, 20008.02643463, 21006.42111188, 22004.81581301,\n",
              "        23003.21053206, 24001.60526304, 25000.        , 25998.39473695,\n",
              "        26996.78946794, 27995.18418698, 28993.57888811, 29991.97356536,\n",
              "        30990.36821276, 31988.76282434, 32987.15739412, 33985.55191614,\n",
              "        34983.94638443],\n",
              "       [15015.19373553, 16013.6741918 , 17012.15470182, 18010.6352596 ,\n",
              "        19009.11585918, 20007.59649458, 21006.07715984, 22004.55784898,\n",
              "        23003.03855603, 24001.51927503, 25000.        , 25998.48072496,\n",
              "        26996.96144396, 27995.44215102, 28993.92284016, 29992.40350542,\n",
              "        30990.88414082, 31989.3647404 , 32987.84529818, 33986.32580819,\n",
              "        34984.80626447]])"
            ]
          },
          "metadata": {},
          "execution_count": 8
        }
      ]
    },
    {
      "cell_type": "code",
      "source": [],
      "metadata": {
        "id": "g4VIRrPkqGFI"
      },
      "execution_count": 8,
      "outputs": []
    }
  ]
}